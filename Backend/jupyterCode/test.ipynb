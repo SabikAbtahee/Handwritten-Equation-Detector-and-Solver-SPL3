{
 "cells": [
  {
   "cell_type": "code",
   "execution_count": 1,
   "metadata": {},
   "outputs": [
    {
     "name": "stderr",
     "output_type": "stream",
     "text": [
      "c:\\users\\sabik\\envs\\env\\lib\\site-packages\\tensorflow\\python\\framework\\dtypes.py:516: FutureWarning: Passing (type, 1) or '1type' as a synonym of type is deprecated; in a future version of numpy, it will be understood as (type, (1,)) / '(1,)type'.\n",
      "  _np_qint8 = np.dtype([(\"qint8\", np.int8, 1)])\n",
      "c:\\users\\sabik\\envs\\env\\lib\\site-packages\\tensorflow\\python\\framework\\dtypes.py:517: FutureWarning: Passing (type, 1) or '1type' as a synonym of type is deprecated; in a future version of numpy, it will be understood as (type, (1,)) / '(1,)type'.\n",
      "  _np_quint8 = np.dtype([(\"quint8\", np.uint8, 1)])\n",
      "c:\\users\\sabik\\envs\\env\\lib\\site-packages\\tensorflow\\python\\framework\\dtypes.py:518: FutureWarning: Passing (type, 1) or '1type' as a synonym of type is deprecated; in a future version of numpy, it will be understood as (type, (1,)) / '(1,)type'.\n",
      "  _np_qint16 = np.dtype([(\"qint16\", np.int16, 1)])\n",
      "c:\\users\\sabik\\envs\\env\\lib\\site-packages\\tensorflow\\python\\framework\\dtypes.py:519: FutureWarning: Passing (type, 1) or '1type' as a synonym of type is deprecated; in a future version of numpy, it will be understood as (type, (1,)) / '(1,)type'.\n",
      "  _np_quint16 = np.dtype([(\"quint16\", np.uint16, 1)])\n",
      "c:\\users\\sabik\\envs\\env\\lib\\site-packages\\tensorflow\\python\\framework\\dtypes.py:520: FutureWarning: Passing (type, 1) or '1type' as a synonym of type is deprecated; in a future version of numpy, it will be understood as (type, (1,)) / '(1,)type'.\n",
      "  _np_qint32 = np.dtype([(\"qint32\", np.int32, 1)])\n",
      "c:\\users\\sabik\\envs\\env\\lib\\site-packages\\tensorflow\\python\\framework\\dtypes.py:525: FutureWarning: Passing (type, 1) or '1type' as a synonym of type is deprecated; in a future version of numpy, it will be understood as (type, (1,)) / '(1,)type'.\n",
      "  np_resource = np.dtype([(\"resource\", np.ubyte, 1)])\n",
      "c:\\users\\sabik\\envs\\env\\lib\\site-packages\\tensorboard\\compat\\tensorflow_stub\\dtypes.py:541: FutureWarning: Passing (type, 1) or '1type' as a synonym of type is deprecated; in a future version of numpy, it will be understood as (type, (1,)) / '(1,)type'.\n",
      "  _np_qint8 = np.dtype([(\"qint8\", np.int8, 1)])\n",
      "c:\\users\\sabik\\envs\\env\\lib\\site-packages\\tensorboard\\compat\\tensorflow_stub\\dtypes.py:542: FutureWarning: Passing (type, 1) or '1type' as a synonym of type is deprecated; in a future version of numpy, it will be understood as (type, (1,)) / '(1,)type'.\n",
      "  _np_quint8 = np.dtype([(\"quint8\", np.uint8, 1)])\n",
      "c:\\users\\sabik\\envs\\env\\lib\\site-packages\\tensorboard\\compat\\tensorflow_stub\\dtypes.py:543: FutureWarning: Passing (type, 1) or '1type' as a synonym of type is deprecated; in a future version of numpy, it will be understood as (type, (1,)) / '(1,)type'.\n",
      "  _np_qint16 = np.dtype([(\"qint16\", np.int16, 1)])\n",
      "c:\\users\\sabik\\envs\\env\\lib\\site-packages\\tensorboard\\compat\\tensorflow_stub\\dtypes.py:544: FutureWarning: Passing (type, 1) or '1type' as a synonym of type is deprecated; in a future version of numpy, it will be understood as (type, (1,)) / '(1,)type'.\n",
      "  _np_quint16 = np.dtype([(\"quint16\", np.uint16, 1)])\n",
      "c:\\users\\sabik\\envs\\env\\lib\\site-packages\\tensorboard\\compat\\tensorflow_stub\\dtypes.py:545: FutureWarning: Passing (type, 1) or '1type' as a synonym of type is deprecated; in a future version of numpy, it will be understood as (type, (1,)) / '(1,)type'.\n",
      "  _np_qint32 = np.dtype([(\"qint32\", np.int32, 1)])\n",
      "c:\\users\\sabik\\envs\\env\\lib\\site-packages\\tensorboard\\compat\\tensorflow_stub\\dtypes.py:550: FutureWarning: Passing (type, 1) or '1type' as a synonym of type is deprecated; in a future version of numpy, it will be understood as (type, (1,)) / '(1,)type'.\n",
      "  np_resource = np.dtype([(\"resource\", np.ubyte, 1)])\n",
      "Using TensorFlow backend.\n",
      "WARNING: Logging before flag parsing goes to stderr.\n",
      "W0922 22:58:50.490527 10744 deprecation.py:506] From c:\\users\\sabik\\envs\\env\\lib\\site-packages\\tensorflow\\python\\ops\\init_ops.py:97: calling GlorotUniform.__init__ (from tensorflow.python.ops.init_ops) with dtype is deprecated and will be removed in a future version.\n",
      "Instructions for updating:\n",
      "Call initializer instance with the dtype argument instead of passing it to the constructor\n",
      "W0922 22:58:50.491536 10744 deprecation.py:506] From c:\\users\\sabik\\envs\\env\\lib\\site-packages\\tensorflow\\python\\ops\\init_ops.py:1251: calling VarianceScaling.__init__ (from tensorflow.python.ops.init_ops) with dtype is deprecated and will be removed in a future version.\n",
      "Instructions for updating:\n",
      "Call initializer instance with the dtype argument instead of passing it to the constructor\n",
      "W0922 22:58:50.492522 10744 deprecation.py:506] From c:\\users\\sabik\\envs\\env\\lib\\site-packages\\tensorflow\\python\\ops\\init_ops.py:97: calling Zeros.__init__ (from tensorflow.python.ops.init_ops) with dtype is deprecated and will be removed in a future version.\n",
      "Instructions for updating:\n",
      "Call initializer instance with the dtype argument instead of passing it to the constructor\n"
     ]
    },
    {
     "name": "stdout",
     "output_type": "stream",
     "text": [
      "1\n"
     ]
    }
   ],
   "source": [
    "import numpy as np\n",
    "from tensorflow import keras\n",
    "from keras.preprocessing import image\n",
    "from keras.models import Sequential\n",
    "\n",
    "def predictFromArray(arr):\n",
    "    result = classifier.predict(arr)\n",
    "    for i in range(len(result[0])):\n",
    "       if(result[0][i]>0.75):\n",
    "           return (labels[i])\n",
    "\n",
    "\n",
    "labels = ['+', '-', '0', '1', '2', '3', '4', '5', '6', '7', '8', '9','=','x', 'y']\n",
    "\n",
    "classifier=keras.models.load_model('../Models/EquationModel6.h5')\n",
    "\n",
    "# print(classifier.summary())\n",
    "\n",
    "\n",
    "path = '../Dataset/Junk/test/1/00000.png'\n",
    "\n",
    "\n",
    "img = image.load_img(path, target_size=(28, 28))\n",
    "x = image.img_to_array(img)\n",
    "x = np.expand_dims(x, axis=0)\n",
    "\n",
    "# images = np.vstack([x])\n",
    "# classes = model.predict(images, batch_size=10)\n",
    "\n",
    "equation=predictFromArray(x)\n",
    "print(equation)"
   ]
  },
  {
   "cell_type": "code",
   "execution_count": 11,
   "metadata": {},
   "outputs": [
    {
     "name": "stdout",
     "output_type": "stream",
     "text": [
      "zeroCount 941\n",
      "not 18\n",
      "6\n"
     ]
    }
   ],
   "source": [
    "import os\n",
    "path = '../Dataset/Junk/test/6/'\n",
    "# path = '../Dataset/pickle/+/3.png'\n",
    "zeroCount=0\n",
    "notzeroCOunt=1\n",
    "for root, dirs, files in os.walk(path):\n",
    "    for fname in files:\n",
    "        img = image.load_img(path+fname, target_size=(28, 28))\n",
    "        x = image.img_to_array(img)\n",
    "        x = np.expand_dims(x, axis=0)\n",
    "\n",
    "        # images = np.vstack([x])\n",
    "        # classes = model.predict(images, batch_size=10)\n",
    "\n",
    "        equation=predictFromArray(x)\n",
    "        if(equation=='6'):\n",
    "            zeroCount+=1\n",
    "        else:\n",
    "            notzeroCOunt+=1\n",
    "print('zeroCount',zeroCount)\n",
    "print('not',notzeroCOunt)\n",
    "print(equation)\n"
   ]
  },
  {
   "cell_type": "code",
   "execution_count": 3,
   "metadata": {},
   "outputs": [
    {
     "name": "stdout",
     "output_type": "stream",
     "text": [
      "zeroCount 0\n",
      "not 2\n",
      "-\n"
     ]
    }
   ],
   "source": [
    "import numpy as np\n",
    "from tensorflow import keras\n",
    "from keras.preprocessing import image\n",
    "from keras.models import Sequential\n",
    "\n",
    "def predictFromArray(arr):\n",
    "    result = classifier.predict(arr)\n",
    "    for i in range(len(result[0])):\n",
    "       if(result[0][i]>0.75):\n",
    "           return (labels[i])\n",
    "\n",
    "\n",
    "labels = ['+', '-', '0', '1', '2', '3', '4', '5', '6', '7', '8', '9','=','x', 'y']\n",
    "\n",
    "classifier=keras.models.load_model('../Models/EquationModel3.h5')\n",
    "\n",
    "# print(classifier.summary())\n",
    "\n",
    "\n",
    "# path = '../Dataset/Junk/test/1/00000.png'\n",
    "\n",
    "\n",
    "# img = image.load_img(path, target_size=(28, 28))\n",
    "# x = image.img_to_array(img)\n",
    "# x = np.expand_dims(x, axis=0)\n",
    "\n",
    "# images = np.vstack([x])\n",
    "# classes = model.predict(images, batch_size=10)\n",
    "\n",
    "# equation=predictFromArray(x)\n",
    "# print(equation)\n",
    "\n",
    "import os\n",
    "# path = '../Dataset/Junk/test/0/'\n",
    "# path = '../Dataset/pickle/+/3.png'\n",
    "path='../Dataset/myown/'\n",
    "zeroCount=0\n",
    "notzeroCOunt=1\n",
    "for root, dirs, files in os.walk(path):\n",
    "    for fname in files:\n",
    "        img = image.load_img(path+fname, target_size=(28, 28))\n",
    "        x = image.img_to_array(img)\n",
    "        x = np.expand_dims(x, axis=0)\n",
    "\n",
    "        # images = np.vstack([x])\n",
    "        # classes = model.predict(images, batch_size=10)\n",
    "\n",
    "        equation=predictFromArray(x)\n",
    "        if(equation=='0'):\n",
    "            zeroCount+=1\n",
    "        else:\n",
    "            notzeroCOunt+=1\n",
    "print('zeroCount',zeroCount)\n",
    "print('not',notzeroCOunt)\n",
    "print(equation)"
   ]
  },
  {
   "cell_type": "code",
   "execution_count": 11,
   "metadata": {},
   "outputs": [
    {
     "name": "stdout",
     "output_type": "stream",
     "text": [
      "=\n"
     ]
    }
   ],
   "source": [
    "path='../Dataset/myown/'\n",
    "zeroCount=0\n",
    "notzeroCOunt=1\n",
    "for root, dirs, files in os.walk(path):\n",
    "    for fname in files:\n",
    "        img = image.load_img(path+fname, target_size=(28, 28))\n",
    "        x = image.img_to_array(img)\n",
    "        x = np.expand_dims(x, axis=0)\n",
    "\n",
    "        # images = np.vstack([x])\n",
    "        # classes = model.predict(images, batch_size=10)\n",
    "\n",
    "        equation=predictFromArray(x)\n",
    "        if(equation=='0'):\n",
    "            zeroCount+=1\n",
    "        else:\n",
    "            notzeroCOunt+=1\n",
    "# print('zeroCount',zeroCount)\n",
    "# print('not',notzeroCOunt)\n",
    "print(equation)"
   ]
  },
  {
   "cell_type": "code",
   "execution_count": 3,
   "metadata": {},
   "outputs": [],
   "source": [
    "import numpy as np\n",
    "import cv2\n",
    "from PIL import Image\n",
    "# import PIL as PIL\n",
    "from matplotlib import pyplot as plt\n",
    "%matplotlib inline"
   ]
  },
  {
   "cell_type": "code",
   "execution_count": null,
   "metadata": {},
   "outputs": [],
   "source": []
  },
  {
   "cell_type": "code",
   "execution_count": null,
   "metadata": {},
   "outputs": [],
   "source": []
  },
  {
   "cell_type": "code",
   "execution_count": 12,
   "metadata": {},
   "outputs": [],
   "source": [
    "path='../Equations/equ2.jpg'\n",
    "testImage=ImageConversions().openImageUsingCV(path)\n",
    "croppedImage = testImage[51:107,151:203]\n",
    "# [(151, 51), (203, 107)]\n",
    "ImageConversions().plotImageUsingCV(croppedImage)\n",
    "c=cv2.resize(croppedImage, (28, 28))\n",
    "c=ImageConversions().makeTextWhite(c)\n",
    "ImageConversions().plotImageUsingCV(c)"
   ]
  },
  {
   "cell_type": "code",
   "execution_count": 13,
   "metadata": {},
   "outputs": [
    {
     "data": {
      "text/plain": [
       "(28, 28, 1)"
      ]
     },
     "execution_count": 13,
     "metadata": {},
     "output_type": "execute_result"
    }
   ],
   "source": [
    "c.shape"
   ]
  },
  {
   "cell_type": "code",
   "execution_count": 14,
   "metadata": {},
   "outputs": [],
   "source": [
    "backtorgb = cv2.cvtColor(c,cv2.COLOR_GRAY2RGB)"
   ]
  },
  {
   "cell_type": "code",
   "execution_count": 15,
   "metadata": {},
   "outputs": [
    {
     "data": {
      "text/plain": [
       "(28, 28, 3)"
      ]
     },
     "execution_count": 15,
     "metadata": {},
     "output_type": "execute_result"
    }
   ],
   "source": [
    "backtorgb.shape"
   ]
  },
  {
   "cell_type": "code",
   "execution_count": 16,
   "metadata": {},
   "outputs": [],
   "source": [
    "ImageConversions().plotImageUsingCV(backtorgb)"
   ]
  },
  {
   "cell_type": "code",
   "execution_count": 17,
   "metadata": {},
   "outputs": [],
   "source": [
    "x = np.expand_dims(backtorgb, axis=0)\n",
    "equation=predictFromArray(x)"
   ]
  },
  {
   "cell_type": "code",
   "execution_count": 18,
   "metadata": {},
   "outputs": [
    {
     "data": {
      "text/plain": [
       "'2'"
      ]
     },
     "execution_count": 18,
     "metadata": {},
     "output_type": "execute_result"
    }
   ],
   "source": [
    "equation"
   ]
  },
  {
   "cell_type": "code",
   "execution_count": 4,
   "metadata": {},
   "outputs": [],
   "source": [
    "class ImageConversions:\n",
    "    def openImageUsingCV(self,path):\n",
    "        img = cv2.imread(path)\n",
    "        return img\n",
    "    def openImageUsingCVGrayScale(self,path):\n",
    "        img = cv2.imread(path)\n",
    "        imgray = cv2.cvtColor(img,cv2.COLOR_BGR2GRAY)\n",
    "        return imgray\n",
    "    def saveNumpyImage(self,path,numImg):\n",
    "        cv2.imwrite(path, numImg) \n",
    "\n",
    "    def openImageUsingPillow(self,path):\n",
    "        im = Image.open(path)\n",
    "        return im\n",
    "\n",
    "    def savePILImage(self,path,img):\n",
    "        img.save(path)\n",
    "\n",
    "    def expandShape(self,numarray,axisNumber):\n",
    "        a=np.expand_dims(numarray,axis=axisNumber)\n",
    "        return a \n",
    "\n",
    "    def plotImageUsingMATPLOTLIB(self,img):\n",
    "        plt.imshow(img)\n",
    "        plt.show()\n",
    "\n",
    "    def plotImageUsingCV(self,img):\n",
    "        cv2.imshow('Gray image', img)\n",
    "        cv2.waitKey(0)\n",
    "\n",
    "    def printInformation(self,obj):\n",
    "        print(type(obj))\n",
    "        if isinstance(obj,np.ndarray):\n",
    "            print('Numpy object ')\n",
    "            print('Object shape: ',obj.shape)\n",
    "            print('Object size: ',obj.size)\n",
    "            print('Object type: ',obj.dtype)\n",
    "        elif isinstance(obj,PIL.JpegImagePlugin.JpegImageFile):\n",
    "            print('Pillow object of JPEG file')\n",
    "        elif isinstance(obj,PIL.PngImagePlugin.PngImageFile):\n",
    "            print('Pillow object of PNG file')\n",
    "\n",
    "    def pixelInversion0to255(self,img): # inverts image b - w or w - b\n",
    "            copyImage = np.copy(img)\n",
    "            copyImage[img > 175] = 0\n",
    "            copyImage[img <= 175] = 255\n",
    "            return copyImage\n",
    "\n",
    "    def isTextWhite(self,img): #returns true if text white else false\n",
    "        white=np.sum(img >= 127)\n",
    "        black=np.sum(img < 127)\n",
    "        if(white>black):\n",
    "            return False\n",
    "        else:\n",
    "            return True\n",
    "\n",
    "    def convertToGrayScale(self,img): #returns grayscale image\n",
    "        gray = cv2.cvtColor(img, cv2.COLOR_BGR2GRAY)\n",
    "        return gray\n",
    "\n",
    "    def convertOnlyto255and0(self,img): # returns image to 0 and 255 image\n",
    "        if(self.isImageGrayScale(img)==False):\n",
    "            grayImage=self.convertToGrayScale(img)\n",
    "            \n",
    "        else:\n",
    "            grayImage=img\n",
    "        (thresh, blackAndWhiteImage) = cv2.threshold(grayImage, 127, 255, cv2.THRESH_BINARY)\n",
    "        \n",
    "\n",
    "        return blackAndWhiteImage\n",
    "    \n",
    "    def makeTextWhite(self,img):\n",
    "        bwImg=self.convertOnlyto255and0(img)\n",
    "#         self.printInformation(bwImg)\n",
    "        if(self.isTextWhite(bwImg)==False):\n",
    "            whiteTextImage=self.pixelInversion0to255(bwImg)\n",
    "        else:\n",
    "            whiteTextImage = bwImg\n",
    "        inv=self.expandShape(whiteTextImage,2)\n",
    "        return inv\n",
    "    \n",
    "    def dilate(self,img):\n",
    "        kernel = np.ones((5,5),np.uint8)\n",
    "        # erosion = cv2.erode(img,kernel,iterations = 1)\n",
    "        opening = cv2.morphologyEx(img, cv2.MORPH_OPEN, kernel)\n",
    "        dilation = cv2.dilate(img,kernel,iterations = 1)\n",
    "        return dilation\n",
    "    \n",
    "    def erode(self,img):\n",
    "        kernel = np.ones((5,5),np.uint8)\n",
    "        opening = cv2.morphologyEx(img, cv2.MORPH_OPEN, kernel)\n",
    "        erosion = cv2.erode(img,kernel,iterations = 1)\n",
    "#         dilation = cv2.dilate(img,kernel,iterations = 1)\n",
    "        return erosion\n",
    "\n",
    "    def resize(self,img,width,height):\n",
    "        dim=(width,height)\n",
    "        resized = cv2.resize(img, dim, interpolation = cv2.INTER_AREA)\n",
    "        return resized\n",
    "    def isImageGrayScale(self,img):\n",
    "        if(len(img.shape)<3):\n",
    "            return True\n",
    "        elif(len(img.shape)==3):\n",
    "            return False "
   ]
  },
  {
   "cell_type": "code",
   "execution_count": 38,
   "metadata": {},
   "outputs": [
    {
     "data": {
      "text/plain": [
       "(96, 102, 3)"
      ]
     },
     "execution_count": 38,
     "metadata": {},
     "output_type": "execute_result"
    }
   ],
   "source": [
    "path='../Equations/equ2.jpg'\n",
    "testImage=ImageConversions().openImageUsingCV(path)\n",
    "croppedImage = testImage[11:107,101:203]\n",
    "# [(151, 51), (203, 107)]\n",
    "ImageConversions().plotImageUsingCV(croppedImage)\n",
    "croppedImage.shape"
   ]
  },
  {
   "cell_type": "code",
   "execution_count": 32,
   "metadata": {},
   "outputs": [
    {
     "ename": "AttributeError",
     "evalue": "'numpy.ndarray' object has no attribute 'width'",
     "output_type": "error",
     "traceback": [
      "\u001b[1;31m---------------------------------------------------------------------------\u001b[0m",
      "\u001b[1;31mAttributeError\u001b[0m                            Traceback (most recent call last)",
      "\u001b[1;32m<ipython-input-32-851f1dcaa4fd>\u001b[0m in \u001b[0;36m<module>\u001b[1;34m\u001b[0m\n\u001b[1;32m----> 1\u001b[1;33m \u001b[0mcroppedImage\u001b[0m\u001b[1;33m.\u001b[0m\u001b[0mwidth\u001b[0m\u001b[1;33m(\u001b[0m\u001b[1;33m)\u001b[0m\u001b[1;33m\u001b[0m\u001b[0m\n\u001b[0m",
      "\u001b[1;31mAttributeError\u001b[0m: 'numpy.ndarray' object has no attribute 'width'"
     ]
    }
   ],
   "source": []
  },
  {
   "cell_type": "code",
   "execution_count": 22,
   "metadata": {},
   "outputs": [],
   "source": [
    "\n",
    "resized = cv2.resize(croppedImage, (28,28), interpolation=cv2.INTER_CUBIC)\n",
    "ImageConversions().plotImageUsingCV(resized)"
   ]
  },
  {
   "cell_type": "code",
   "execution_count": null,
   "metadata": {},
   "outputs": [],
   "source": []
  }
 ],
 "metadata": {
  "kernelspec": {
   "display_name": "Python 3",
   "language": "python",
   "name": "python3"
  },
  "language_info": {
   "codemirror_mode": {
    "name": "ipython",
    "version": 3
   },
   "file_extension": ".py",
   "mimetype": "text/x-python",
   "name": "python",
   "nbconvert_exporter": "python",
   "pygments_lexer": "ipython3",
   "version": "3.6.4"
  }
 },
 "nbformat": 4,
 "nbformat_minor": 4
}

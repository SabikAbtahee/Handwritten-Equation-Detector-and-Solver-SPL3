{
 "cells": [
  {
   "cell_type": "markdown",
   "metadata": {},
   "source": [
    "Delete multiple files at once"
   ]
  },
  {
   "cell_type": "code",
   "execution_count": 10,
   "metadata": {},
   "outputs": [],
   "source": [
    "path1 = \"../Dataset/pickle3/-\" #Source\n",
    "path2 = \"../Dataset/pickle3/+\"\n",
    "\n",
    "path3 = \"../Dataset/pickle3/(\"\n",
    "path4 = \"../Dataset/pickle3/{\"\n",
    "path5 = \"../Dataset/pickle3/)\"\n",
    "path6 = \"../Dataset/pickle3/}\"\n",
    "path7 = \"../Dataset/pickle3/[\"\n",
    "path8 = \"../Dataset/pickle3/]\"\n",
    "\n",
    "path9 = \"../Dataset/pickle3/0\"\n",
    "path10 = \"../Dataset/pickle3/1\"\n",
    "path11 = \"../Dataset/pickle3/2\"\n",
    "path12 = \"../Dataset/pickle3/3\"\n",
    "path13 = \"../Dataset/pickle3/4\"\n",
    "path14 = \"../Dataset/pickle3/5\"\n",
    "path15 = \"../Dataset/pickle3/6\"\n",
    "path16 = \"../Dataset/pickle3/7\"\n",
    "path17 = \"../Dataset/pickle3/8\"\n",
    "path18 = \"../Dataset/pickle3/9\"\n",
    "\n",
    "path19 = \"../Dataset/pickle3/=\"\n",
    "path20 = \"../Dataset/pickle3/div\"\n",
    "path21 = \"../Dataset/pickle3/gt\"\n",
    "path22 = \"../Dataset/pickle3/lt\"\n",
    "path23 = \"../Dataset/pickle3/N\"\n",
    "path24 = \"../Dataset/pickle3/neq\"\n",
    "path25 = \"../Dataset/pickle3/pi\"\n",
    "path26 = \"../Dataset/pickle3/sqrt\"\n",
    "path27 = \"../Dataset/pickle3/times\"\n",
    "path28 = \"../Dataset/pickle3/X\"\n",
    "path29 = \"../Dataset/pickle3/y\"\n",
    "\n",
    "paths=[path1,path2,path3,path4,path5,path6,path7,path8,path9,path10,path11,path12,path13,path14,path15,path16,\n",
    "       path17,path18,path19,path20,path21,path22,path23,path24,path25,path26,path27,path28,path29]"
   ]
  },
  {
   "cell_type": "code",
   "execution_count": 11,
   "metadata": {},
   "outputs": [
    {
     "name": "stdout",
     "output_type": "stream",
     "text": [
      "250\n",
      "250\n",
      "250\n",
      "250\n",
      "250\n",
      "250\n",
      "250\n",
      "250\n",
      "250\n",
      "250\n",
      "250\n",
      "250\n",
      "250\n",
      "250\n",
      "250\n",
      "250\n",
      "250\n",
      "250\n",
      "250\n",
      "250\n",
      "250\n",
      "250\n",
      "250\n",
      "250\n",
      "250\n"
     ]
    }
   ],
   "source": [
    "import os\n",
    "for i in paths:\n",
    "    for root, dirs, files in os.walk(i):\n",
    "        count=len(files)\n",
    "        for fname in files:\n",
    "            if fname.endswith('.png'):\n",
    "                os.remove(os.path.join(root, fname))\n",
    "                count-=1\n",
    "            if(count==250):\n",
    "                break\n",
    "        print(count)"
   ]
  },
  {
   "cell_type": "code",
   "execution_count": null,
   "metadata": {},
   "outputs": [],
   "source": []
  }
 ],
 "metadata": {
  "kernelspec": {
   "display_name": "Python 3",
   "language": "python",
   "name": "python3"
  },
  "language_info": {
   "codemirror_mode": {
    "name": "ipython",
    "version": 3
   },
   "file_extension": ".py",
   "mimetype": "text/x-python",
   "name": "python",
   "nbconvert_exporter": "python",
   "pygments_lexer": "ipython3",
   "version": "3.6.4"
  }
 },
 "nbformat": 4,
 "nbformat_minor": 4
}

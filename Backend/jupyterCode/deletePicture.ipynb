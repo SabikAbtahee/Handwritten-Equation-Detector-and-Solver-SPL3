{
 "cells": [
  {
   "cell_type": "markdown",
   "metadata": {},
   "source": [
    "Delete multiple files at once"
   ]
  },
  {
   "cell_type": "code",
   "execution_count": 12,
   "metadata": {},
   "outputs": [],
   "source": [
    "path1 = \"../Dataset/pickle4/-\" #Source\n",
    "path2 = \"../Dataset/pickle4/+\"\n",
    "\n",
    "path3 = \"../Dataset/pickle4/(\"\n",
    "path4 = \"../Dataset/pickle4/{\"\n",
    "path5 = \"../Dataset/pickle4/)\"\n",
    "path6 = \"../Dataset/pickle4/}\"\n",
    "path7 = \"../Dataset/pickle4/[\"\n",
    "path8 = \"../Dataset/pickle4/]\"\n",
    "\n",
    "path9 = \"../Dataset/pickle4/0\"\n",
    "path10 = \"../Dataset/pickle4/1\"\n",
    "path11 = \"../Dataset/pickle4/2\"\n",
    "path12 = \"../Dataset/pickle4/3\"\n",
    "path13 = \"../Dataset/pickle4/4\"\n",
    "path14 = \"../Dataset/pickle4/5\"\n",
    "path15 = \"../Dataset/pickle4/6\"\n",
    "path16 = \"../Dataset/pickle4/7\"\n",
    "path17 = \"../Dataset/pickle4/8\"\n",
    "path18 = \"../Dataset/pickle4/9\"\n",
    "\n",
    "path19 = \"../Dataset/pickle4/=\"\n",
    "path20 = \"../Dataset/pickle4/div\"\n",
    "path21 = \"../Dataset/pickle4/gt\"\n",
    "path22 = \"../Dataset/pickle4/lt\"\n",
    "path23 = \"../Dataset/pickle4/N\"\n",
    "path24 = \"../Dataset/pickle4/neq\"\n",
    "path25 = \"../Dataset/pickle4/pi\"\n",
    "path26 = \"../Dataset/pickle4/sqrt\"\n",
    "path27 = \"../Dataset/pickle4/times\"\n",
    "path28 = \"../Dataset/pickle4/X\"\n",
    "path29 = \"../Dataset/pickle4/y\"\n",
    "\n",
    "paths=[path1,path2,path3,path4,path5,path6,path7,path8,path9,path10,path11,path12,path13,path14,path15,path16,\n",
    "       path17,path18,path19,path20,path21,path22,path23,path24,path25,path26,path27,path28,path29]"
   ]
  },
  {
   "cell_type": "code",
   "execution_count": 13,
   "metadata": {},
   "outputs": [
    {
     "name": "stdout",
     "output_type": "stream",
     "text": [
      "4000\n",
      "4000\n",
      "4000\n",
      "376\n",
      "4000\n",
      "377\n",
      "778\n",
      "780\n",
      "4000\n",
      "4000\n",
      "4000\n",
      "4000\n",
      "4000\n",
      "3545\n",
      "3118\n",
      "2909\n",
      "3068\n",
      "3737\n",
      "4000\n",
      "258\n",
      "477\n",
      "4000\n",
      "2332\n",
      "4000\n",
      "4000\n",
      "4000\n"
     ]
    }
   ],
   "source": [
    "import os\n",
    "for i in paths:\n",
    "    for root, dirs, files in os.walk(i):\n",
    "        count=len(files)\n",
    "        for fname in files:\n",
    "            if(count<=4000):\n",
    "                break\n",
    "            if fname.endswith('.png'):\n",
    "                os.remove(os.path.join(root, fname))\n",
    "                count-=1\n",
    "            \n",
    "        print(count)"
   ]
  },
  {
   "cell_type": "code",
   "execution_count": null,
   "metadata": {},
   "outputs": [],
   "source": []
  }
 ],
 "metadata": {
  "kernelspec": {
   "display_name": "Python 3",
   "language": "python",
   "name": "python3"
  },
  "language_info": {
   "codemirror_mode": {
    "name": "ipython",
    "version": 3
   },
   "file_extension": ".py",
   "mimetype": "text/x-python",
   "name": "python",
   "nbconvert_exporter": "python",
   "pygments_lexer": "ipython3",
   "version": "3.6.4"
  }
 },
 "nbformat": 4,
 "nbformat_minor": 4
}

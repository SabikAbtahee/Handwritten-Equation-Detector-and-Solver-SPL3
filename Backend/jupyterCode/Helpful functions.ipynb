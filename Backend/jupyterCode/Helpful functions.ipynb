{
 "cells": [
  {
   "cell_type": "markdown",
   "metadata": {},
   "source": [
    "# This file is for all sort of test purposes nothing important but some shortcuts are present"
   ]
  },
  {
   "cell_type": "markdown",
   "metadata": {},
   "source": [
    "# Convert all pixel to 0-1"
   ]
  },
  {
   "cell_type": "code",
   "execution_count": null,
   "metadata": {},
   "outputs": [],
   "source": []
  },
  {
   "cell_type": "markdown",
   "metadata": {},
   "source": [
    "# Convert all pixel to 0 , 255"
   ]
  },
  {
   "cell_type": "code",
   "execution_count": 1,
   "metadata": {},
   "outputs": [],
   "source": [
    "import numpy as np\n",
    "import cv2\n",
    "from PIL import Image\n",
    "# import PIL as PIL\n",
    "from matplotlib import pyplot as plt\n",
    "%matplotlib inline"
   ]
  },
  {
   "cell_type": "code",
   "execution_count": 39,
   "metadata": {},
   "outputs": [
    {
     "name": "stdout",
     "output_type": "stream",
     "text": [
      "<class 'PIL.PngImagePlugin.PngImageFile'>\n",
      "(28, 28)\n"
     ]
    },
    {
     "data": {
      "image/png": "[encoded data removed]",
      "text/plain": [
       "<Figure size 432x288 with 1 Axes>"
      ]
     },
     "metadata": {
      "needs_background": "light"
     },
     "output_type": "display_data"
    }
   ],
   "source": [
    "#Open and show image using Pillow\n",
    "im = Image.open(r\"mnist.png\")\n",
    "print(type(im))   # if an image is opened using pillow then it will of type PIL\n",
    "\n",
    "print(im.size) # the size will be row*height\n",
    "\n",
    "\n",
    "plt.imshow(im)\n",
    "plt.show()"
   ]
  },
  {
   "cell_type": "code",
   "execution_count": 2,
   "metadata": {},
   "outputs": [
    {
     "name": "stdout",
     "output_type": "stream",
     "text": [
      "<class 'numpy.ndarray'>\n",
      "(45, 45, 3)\n",
      "6075\n",
      "uint8\n"
     ]
    },
    {
     "data": {
      "image/png": "[encoded data removed]",
      "text/plain": [
       "<Figure size 432x288 with 1 Axes>"
      ]
     },
     "metadata": {
      "needs_background": "light"
     },
     "output_type": "display_data"
    }
   ],
   "source": [
    "#open image using opencv2\n",
    "img = cv2.imread('test.jpg')\n",
    "print(type(img))\n",
    "print(img.shape)\n",
    "print(img.size)\n",
    "print(img.dtype)\n",
    "#Plot images that are numpy arrays\n",
    "plt.imshow(img)\n",
    "plt.show()"
   ]
  },
  {
   "cell_type": "code",
   "execution_count": 7,
   "metadata": {},
   "outputs": [
    {
     "name": "stdout",
     "output_type": "stream",
     "text": [
      "[[255 255 255 ... 255 255 255]\n",
      " [255 255 255 ... 255 255 255]\n",
      " [255 255 255 ... 255 255 255]\n",
      " ...\n",
      " [255 255 255 ... 255 255 255]\n",
      " [255 255 255 ... 255 255 255]\n",
      " [255 255 255 ... 255 255 255]]\n",
      "<class 'numpy.ndarray'>\n",
      "(45, 45)\n",
      "2025\n",
      "uint8\n",
      "(45, 45, 1)\n"
     ]
    },
    {
     "data": {
      "text/plain": [
       "-1"
      ]
     },
     "execution_count": 7,
     "metadata": {},
     "output_type": "execute_result"
    }
   ],
   "source": [
    "#Converting numpy to gray but dimension is lost\n",
    "img2gray = cv2.cvtColor(img,cv2.COLOR_BGR2GRAY)\n",
    "print(img2gray)\n",
    "print(type(img2gray))\n",
    "print(img2gray.shape)\n",
    "print(img2gray.size)\n",
    "print(img2gray.dtype)\n",
    "\n",
    "y = np.expand_dims(img2gray, axis=2)\n",
    "print(y.shape)\n",
    "\n",
    "\n",
    "# plt.imshow(y)\n",
    "# plt.show()\n",
    "# cv2.imshow('Gray image', y)\n",
    "  \n",
    "# cv2.waitKey(0)"
   ]
  },
  {
   "cell_type": "markdown",
   "metadata": {},
   "source": [
    "## Helper Functions"
   ]
  },
  {
   "cell_type": "markdown",
   "metadata": {},
   "source": [
    "1. Opening image with opencv //\n",
    "2. Saving image with opencv //\n",
    "3. Opening image with PIL //\n",
    "4. Saving image with PIL // Not needed really\n",
    "5. Expanding shape of a numpy array //\n",
    "6. Plotting image with matplotlib //\n",
    "7. Plotting image with opencv //\n",
    "8. Printing information //\n",
    "9. Converting or inverting pixels // \n",
    "10. Identifying text and converting only that to white //\n",
    "11. Converting image to grayscale //\n",
    "12. Converting image to pure black and white or only making 255 or 0 //\n",
    "13. Converting pixel to 1 and 0 float number //lagbena\n",
    "14. Reducing a image shape or size // done\n",
    "15. Erosion and dilation of image //\n",
    "16. "
   ]
  },
  {
   "cell_type": "code",
   "execution_count": 28,
   "metadata": {},
   "outputs": [],
   "source": [
    "class ImageConversions:\n",
    "    def openImageUsingCV(self,path):\n",
    "        img = cv2.imread(path)\n",
    "        return img\n",
    "\n",
    "    def saveNumpyImage(self,path,numImg):\n",
    "        cv2.imwrite(path, numImg) \n",
    "\n",
    "    def openImageUsingPillow(self,path):\n",
    "        im = Image.open(path)\n",
    "        return im\n",
    "\n",
    "    def savePILImage(self,path,img):\n",
    "        img.save(path)\n",
    "\n",
    "    def expandShape(self,numarray,axisNumber):\n",
    "        a=np.expand_dims(numarray,axis=axisNumber)\n",
    "        return a \n",
    "\n",
    "    def plotImageUsingMATPLOTLIB(self,img):\n",
    "        plt.imshow(img)\n",
    "        plt.show()\n",
    "\n",
    "    def plotImageUsingCV(self,img):\n",
    "        cv2.imshow('Gray image', img)\n",
    "        cv2.waitKey(0)\n",
    "\n",
    "    def printInformation(self,obj):\n",
    "        print(type(obj))\n",
    "        if isinstance(obj,np.ndarray):\n",
    "            print('Numpy object ')\n",
    "            print('Object shape: ',obj.shape)\n",
    "            print('Object size: ',obj.size)\n",
    "            print('Object type: ',obj.dtype)\n",
    "        elif isinstance(obj,PIL.JpegImagePlugin.JpegImageFile):\n",
    "            print('Pillow object of JPEG file')\n",
    "        elif isinstance(obj,PIL.PngImagePlugin.PngImageFile):\n",
    "            print('Pillow object of PNG file')\n",
    "\n",
    "    def pixelInversion0to255(self,img): # inverts image b - w or w - b\n",
    "            copyImage = np.copy(img)\n",
    "            copyImage[img > 175] = 0\n",
    "            copyImage[img <= 175] = 255\n",
    "            return copyImage\n",
    "\n",
    "    def isTextWhite(self,img): #returns true if text white else false\n",
    "        white=np.sum(img >= 127)\n",
    "        black=np.sum(img < 127)\n",
    "        if(white>black):\n",
    "            return False\n",
    "        else:\n",
    "            return True\n",
    "\n",
    "    def convertToGrayScale(self,img): #returns grayscale image\n",
    "        gray = cv2.cvtColor(img, cv2.COLOR_BGR2GRAY)\n",
    "        return gray\n",
    "\n",
    "    def convertOnlyto255and0(self,img): # returns image to 0 and 255 image\n",
    "        grayImage=self.convertToGrayScale(img)\n",
    "        (thresh, blackAndWhiteImage) = cv2.threshold(grayImage, 127, 255, cv2.THRESH_BINARY)\n",
    "        \n",
    "\n",
    "        return blackAndWhiteImage\n",
    "    \n",
    "    def makeTextWhite(self,img):\n",
    "        bwImg=self.convertOnlyto255and0(img)\n",
    "        self.printInformation(bwImg)\n",
    "        if(self.isTextWhite(bwImg)==False):\n",
    "            whiteTextImage=self.pixelInversion0to255(bwImg)\n",
    "        else:\n",
    "            whiteTextImage = bwImg\n",
    "        inv=self.expandShape(whiteTextImage,2)\n",
    "        return inv\n",
    "    \n",
    "    def dilate(self,img):\n",
    "        kernel = np.ones((5,5),np.uint8)\n",
    "        # erosion = cv2.erode(img,kernel,iterations = 1)\n",
    "        opening = cv2.morphologyEx(img, cv2.MORPH_OPEN, kernel)\n",
    "        dilation = cv2.dilate(img,kernel,iterations = 1)\n",
    "        return dilation\n",
    "    \n",
    "    def erode(self,img):\n",
    "        kernel = np.ones((5,5),np.uint8)\n",
    "        opening = cv2.morphologyEx(img, cv2.MORPH_OPEN, kernel)\n",
    "        erosion = cv2.erode(img,kernel,iterations = 1)\n",
    "#         dilation = cv2.dilate(img,kernel,iterations = 1)\n",
    "        return erosion\n",
    "\n",
    "    def resize(self,img,width,height):\n",
    "        dim=(width,height)\n",
    "        resized = cv2.resize(img, dim, interpolation = cv2.INTER_AREA)\n",
    "        return resized"
   ]
  },
  {
   "cell_type": "code",
   "execution_count": 30,
   "metadata": {},
   "outputs": [
    {
     "name": "stdout",
     "output_type": "stream",
     "text": [
      "<class 'numpy.ndarray'>\n",
      "Numpy object \n",
      "Object shape:  (45, 45)\n",
      "Object size:  2025\n",
      "Object type:  uint8\n",
      "<class 'numpy.ndarray'>\n",
      "Numpy object \n",
      "Object shape:  (45, 45, 1)\n",
      "Object size:  2025\n",
      "Object type:  uint8\n",
      "False\n",
      "<class 'numpy.ndarray'>\n",
      "Numpy object \n",
      "Object shape:  (45, 45)\n",
      "Object size:  2025\n",
      "Object type:  uint8\n",
      "<class 'numpy.ndarray'>\n",
      "Numpy object \n",
      "Object shape:  (45, 45)\n",
      "Object size:  2025\n",
      "Object type:  uint8\n",
      "<class 'numpy.ndarray'>\n",
      "Numpy object \n",
      "Object shape:  (28, 28)\n",
      "Object size:  784\n",
      "Object type:  uint8\n"
     ]
    }
   ],
   "source": [
    "p=ImageConversions()\n",
    "img=p.openImageUsingCV('test.jpg')\n",
    "a=p.makeTextWhite(img)\n",
    "p.printInformation(a)\n",
    "print(p.isTextWhite(img))\n",
    "s=p.makeTextWhite(img)\n",
    "p.plotImageUsingCV(s)\n",
    "aa=p.dilate(s)\n",
    "p.plotImageUsingCV(aa)\n",
    "xx=p.resize(aa,28,28)\n",
    "p.plotImageUsingCV(xx)\n",
    "p.printInformation(aa)\n",
    "p.printInformation(xx)"
   ]
  },
  {
   "cell_type": "code",
   "execution_count": 11,
   "metadata": {},
   "outputs": [],
   "source": [
    "# x=openImageUsingCV('test.jpg')\n",
    "# a=convertToGrayScale(x)\n",
    "# saveNumpyImage('testSave.jpg',a)\n",
    "\n",
    "# x=openImageUsingPillow('test.jpg')\n",
    "# # savePILImage('testPIL.jpg',x)\n",
    "# x=openImageUsingCV('a33.jpg')\n",
    "# bw=convertOnlyto255and0(x)\n",
    "# bww=expandShape(bw,2)\n",
    "# printInformation(bww)\n",
    "# print(bww)\n",
    "# s=pixelInversion0to255(bww)\n",
    "# # s1=pixelInversion0to255(s)\n",
    "# plotImageUsingCV(s)\n",
    "# q=isTextWhite(s)\n",
    "# print(q)\n",
    "\n",
    "# sa=cv2.countNonZero(s1)\n",
    "# print(sa)\n",
    "p=ImageConversions()\n",
    "img=p.openImageUsingCV('test.jpg')\n",
    "im=p.makeTextWhite(img)\n",
    "# a=p.convertOnlyto255and0(img)\n",
    "# s=p.makeTextWhite(a)\n",
    "# print(s)\n",
    "p.plotImageUsingCV(im)"
   ]
  },
  {
   "cell_type": "code",
   "execution_count": 36,
   "metadata": {},
   "outputs": [
    {
     "name": "stdout",
     "output_type": "stream",
     "text": [
      "<class 'numpy.ndarray'>\n",
      "Numpy object \n",
      "Object shape:  (353, 1270, 3)\n",
      "Object size:  1344930\n",
      "Object type:  uint8\n",
      "[[255 255 255 ... 255 255 255]\n",
      " [255 255 255 ... 255 255 255]\n",
      " [255 255 255 ... 255 255 255]\n",
      " ...\n",
      " [255 255 255 ... 255 255 255]\n",
      " [255 255 255 ... 255 255 255]\n",
      " [255 255 255 ... 255 255 255]]\n"
     ]
    },
    {
     "data": {
      "text/plain": [
       "-1"
      ]
     },
     "execution_count": 36,
     "metadata": {},
     "output_type": "execute_result"
    }
   ],
   "source": [
    "img=openImageUsingCV('a33.jpg')\n",
    "# img=openImageUsingPillow('a33.jpg')\n",
    "printInformation(img)\n",
    "# print(img)\n",
    "grayImage=convertToGrayScale(img)\n",
    "(thresh, blackAndWhiteImage) = cv2.threshold(grayImage, 127, 255, cv2.THRESH_BINARY)\n",
    "print(blackAndWhiteImage)\n",
    "# plotImageUsingMATPLOTLIB(blackAndWhiteImage)\n",
    "cv2.imshow('Black white image', blackAndWhiteImage)\n",
    "cv2.waitKey(0)\n"
   ]
  },
  {
   "cell_type": "code",
   "execution_count": null,
   "metadata": {},
   "outputs": [],
   "source": []
  },
  {
   "cell_type": "code",
   "execution_count": null,
   "metadata": {},
   "outputs": [],
   "source": []
  },
  {
   "cell_type": "code",
   "execution_count": null,
   "metadata": {},
   "outputs": [],
   "source": []
  },
  {
   "cell_type": "code",
   "execution_count": 71,
   "metadata": {},
   "outputs": [
    {
     "name": "stdout",
     "output_type": "stream",
     "text": [
      "[[[255 255 255]\n",
      "  [255 255 255]\n",
      "  [255 255 255]\n",
      "  ...\n",
      "  [255 255 255]\n",
      "  [255 255 255]\n",
      "  [255 255 255]]\n",
      "\n",
      " [[255 255 255]\n",
      "  [255 255 255]\n",
      "  [255 255 255]\n",
      "  ...\n",
      "  [255 255 255]\n",
      "  [255 255 255]\n",
      "  [255 255 255]]\n",
      "\n",
      " [[255 255 255]\n",
      "  [255 255 255]\n",
      "  [255 255 255]\n",
      "  ...\n",
      "  [255 255 255]\n",
      "  [255 255 255]\n",
      "  [255 255 255]]\n",
      "\n",
      " ...\n",
      "\n",
      " [[255 255 255]\n",
      "  [255 255 255]\n",
      "  [255 255 255]\n",
      "  ...\n",
      "  [255 255 255]\n",
      "  [255 255 255]\n",
      "  [255 255 255]]\n",
      "\n",
      " [[255 255 255]\n",
      "  [255 255 255]\n",
      "  [255 255 255]\n",
      "  ...\n",
      "  [255 255 255]\n",
      "  [255 255 255]\n",
      "  [255 255 255]]\n",
      "\n",
      " [[255 255 255]\n",
      "  [255 255 255]\n",
      "  [255 255 255]\n",
      "  ...\n",
      "  [255 255 255]\n",
      "  [255 255 255]\n",
      "  [255 255 255]]]\n"
     ]
    },
    {
     "ename": "IndexError",
     "evalue": "index 255 is out of bounds for axis 0 with size 45",
     "output_type": "error",
     "traceback": [
      "\u001b[1;31m---------------------------------------------------------------------------\u001b[0m",
      "\u001b[1;31mIndexError\u001b[0m                                Traceback (most recent call last)",
      "\u001b[1;32m<ipython-input-71-d21fa3649ac5>\u001b[0m in \u001b[0;36m<module>\u001b[1;34m\u001b[0m\n\u001b[0;32m      1\u001b[0m \u001b[0mimg\u001b[0m\u001b[1;33m=\u001b[0m\u001b[0mopenImageUsingCV\u001b[0m\u001b[1;33m(\u001b[0m\u001b[1;34m'test.jpg'\u001b[0m\u001b[1;33m)\u001b[0m\u001b[1;33m\u001b[0m\u001b[0m\n\u001b[0;32m      2\u001b[0m \u001b[0mprint\u001b[0m\u001b[1;33m(\u001b[0m\u001b[0mimg\u001b[0m\u001b[1;33m)\u001b[0m\u001b[1;33m\u001b[0m\u001b[0m\n\u001b[1;32m----> 3\u001b[1;33m \u001b[0mim\u001b[0m\u001b[1;33m=\u001b[0m\u001b[0mpixelInversion\u001b[0m\u001b[1;33m(\u001b[0m\u001b[0mimg\u001b[0m\u001b[1;33m)\u001b[0m\u001b[1;33m\u001b[0m\u001b[0m\n\u001b[0m\u001b[0;32m      4\u001b[0m \u001b[0mprint\u001b[0m\u001b[1;33m(\u001b[0m\u001b[0mim\u001b[0m\u001b[1;33m)\u001b[0m\u001b[1;33m\u001b[0m\u001b[0m\n\u001b[0;32m      5\u001b[0m \u001b[1;31m# printInformation(img)\u001b[0m\u001b[1;33m\u001b[0m\u001b[1;33m\u001b[0m\u001b[0m\n",
      "\u001b[1;32m<ipython-input-70-ebd21ae6ba05>\u001b[0m in \u001b[0;36mpixelInversion\u001b[1;34m(img)\u001b[0m\n\u001b[0;32m     31\u001b[0m \u001b[1;33m\u001b[0m\u001b[0m\n\u001b[0;32m     32\u001b[0m \u001b[1;32mdef\u001b[0m \u001b[0mpixelInversion\u001b[0m\u001b[1;33m(\u001b[0m\u001b[0mimg\u001b[0m\u001b[1;33m)\u001b[0m\u001b[1;33m:\u001b[0m\u001b[1;33m\u001b[0m\u001b[0m\n\u001b[1;32m---> 33\u001b[1;33m     \u001b[0mimg\u001b[0m\u001b[1;33m=\u001b[0m\u001b[0mnp\u001b[0m\u001b[1;33m.\u001b[0m\u001b[0minvert\u001b[0m\u001b[1;33m(\u001b[0m\u001b[0mimg\u001b[0m\u001b[1;33m[\u001b[0m\u001b[1;36m255\u001b[0m\u001b[1;33m,\u001b[0m \u001b[1;36m0\u001b[0m\u001b[1;33m]\u001b[0m\u001b[1;33m)\u001b[0m\u001b[1;33m\u001b[0m\u001b[0m\n\u001b[0m\u001b[0;32m     34\u001b[0m     \u001b[1;32mreturn\u001b[0m \u001b[0mimg\u001b[0m\u001b[1;33m\u001b[0m\u001b[0m\n\u001b[0;32m     35\u001b[0m \u001b[1;33m\u001b[0m\u001b[0m\n",
      "\u001b[1;31mIndexError\u001b[0m: index 255 is out of bounds for axis 0 with size 45"
     ]
    }
   ],
   "source": [
    "img=openImageUsingCV('test.jpg')\n",
    "print(img)\n",
    "im=pixelInversion(img)\n",
    "print(im)\n",
    "# printInformation(img)\n",
    "# gray=convertToGrayScale(img)\n",
    "# printInformation(gray)\n",
    "# gre=expandShape(gray,2)\n",
    "# printInformation(gre)\n",
    "# plotImageUsingCV(gre)\n",
    "# plotImageUsingMATPLOTLIB(gre)"
   ]
  },
  {
   "cell_type": "code",
   "execution_count": null,
   "metadata": {},
   "outputs": [],
   "source": []
  }
 ],
 "metadata": {
  "kernelspec": {
   "display_name": "Python 3",
   "language": "python",
   "name": "python3"
  },
  "language_info": {
   "codemirror_mode": {
    "name": "ipython",
    "version": 3
   },
   "file_extension": ".py",
   "mimetype": "text/x-python",
   "name": "python",
   "nbconvert_exporter": "python",
   "pygments_lexer": "ipython3",
   "version": "3.6.4"
  }
 },
 "nbformat": 4,
 "nbformat_minor": 4
}

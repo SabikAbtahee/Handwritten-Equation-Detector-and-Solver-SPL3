{
 "cells": [
  {
   "cell_type": "code",
   "execution_count": 1,
   "metadata": {},
   "outputs": [],
   "source": [
    "import numpy as np\n",
    "import cv2\n",
    "from PIL import Image\n",
    "# import PIL as PIL\n",
    "from matplotlib import pyplot as plt\n",
    "%matplotlib inline"
   ]
  },
  {
   "cell_type": "code",
   "execution_count": 2,
   "metadata": {},
   "outputs": [],
   "source": [
    "class Symbol:\n",
    "    position=-1\n",
    "    isSquare=False\n",
    "    isMinus=False\n",
    "    height=0\n",
    "    width=0\n",
    "    (centerX,centerY)=(0,0)\n",
    "    \n",
    "    def hwRatio(self):\n",
    "        return self.height/self.width\n",
    "    \n",
    "    def isSquare(self):\n",
    "        return self.isSquare\n",
    "    \n",
    "    def isMinus(self):\n",
    "        return self.isMinus\n",
    "    \n",
    "    def getArea(self):\n",
    "        return self.height*self.width\n",
    "    \n",
    "    \n",
    "    \n",
    "    "
   ]
  },
  {
   "cell_type": "code",
   "execution_count": 3,
   "metadata": {},
   "outputs": [],
   "source": [
    "class ImageConversions:\n",
    "    def openImageUsingCV(self,path):\n",
    "        img = cv2.imread(path)\n",
    "        return img\n",
    "    def openImageUsingCVGrayScale(self,path):\n",
    "        img = cv2.imread(path)\n",
    "        imgray = cv2.cvtColor(img,cv2.COLOR_BGR2GRAY)\n",
    "        return imgray\n",
    "    def saveNumpyImage(self,path,numImg):\n",
    "        cv2.imwrite(path, numImg) \n",
    "\n",
    "    def openImageUsingPillow(self,path):\n",
    "        im = Image.open(path)\n",
    "        return im\n",
    "\n",
    "    def savePILImage(self,path,img):\n",
    "        img.save(path)\n",
    "\n",
    "    def expandShape(self,numarray,axisNumber):\n",
    "        a=np.expand_dims(numarray,axis=axisNumber)\n",
    "        return a \n",
    "\n",
    "    def plotImageUsingMATPLOTLIB(self,img):\n",
    "        plt.imshow(img)\n",
    "        plt.show()\n",
    "\n",
    "    def plotImageUsingCV(self,img):\n",
    "        cv2.imshow('Gray image', img)\n",
    "        cv2.waitKey(0)\n",
    "\n",
    "    def printInformation(self,obj):\n",
    "        print(type(obj))\n",
    "        if isinstance(obj,np.ndarray):\n",
    "            print('Numpy object ')\n",
    "            print('Object shape: ',obj.shape)\n",
    "            print('Object size: ',obj.size)\n",
    "            print('Object type: ',obj.dtype)\n",
    "        elif isinstance(obj,PIL.JpegImagePlugin.JpegImageFile):\n",
    "            print('Pillow object of JPEG file')\n",
    "        elif isinstance(obj,PIL.PngImagePlugin.PngImageFile):\n",
    "            print('Pillow object of PNG file')\n",
    "\n",
    "    def pixelInversion0to255(self,img): # inverts image b - w or w - b\n",
    "            copyImage = np.copy(img)\n",
    "            copyImage[img > 175] = 0\n",
    "            copyImage[img <= 175] = 255\n",
    "            return copyImage\n",
    "\n",
    "    def isTextWhite(self,img): #returns true if text white else false\n",
    "        white=np.sum(img >= 127)\n",
    "        black=np.sum(img < 127)\n",
    "        if(white>black):\n",
    "            return False\n",
    "        else:\n",
    "            return True\n",
    "\n",
    "    def convertToGrayScale(self,img): #returns grayscale image\n",
    "        gray = cv2.cvtColor(img, cv2.COLOR_BGR2GRAY)\n",
    "        return gray\n",
    "\n",
    "    def convertOnlyto255and0(self,img): # returns image to 0 and 255 image\n",
    "        if(self.isImageGrayScale(img)==False):\n",
    "            grayImage=self.convertToGrayScale(img)\n",
    "            \n",
    "        else:\n",
    "            grayImage=img\n",
    "        (thresh, blackAndWhiteImage) = cv2.threshold(grayImage, 127, 255, cv2.THRESH_BINARY)\n",
    "        \n",
    "\n",
    "        return blackAndWhiteImage\n",
    "    \n",
    "    def makeTextWhite(self,img):\n",
    "        bwImg=self.convertOnlyto255and0(img)\n",
    "#         self.printInformation(bwImg)\n",
    "        if(self.isTextWhite(bwImg)==False):\n",
    "            whiteTextImage=self.pixelInversion0to255(bwImg)\n",
    "        else:\n",
    "            whiteTextImage = bwImg\n",
    "        inv=self.expandShape(whiteTextImage,2)\n",
    "        return inv\n",
    "    \n",
    "    def dilate(self,img):\n",
    "        kernel = np.ones((5,5),np.uint8)\n",
    "        # erosion = cv2.erode(img,kernel,iterations = 1)\n",
    "        opening = cv2.morphologyEx(img, cv2.MORPH_OPEN, kernel)\n",
    "        dilation = cv2.dilate(img,kernel,iterations = 1)\n",
    "        return dilation\n",
    "    \n",
    "    def erode(self,img):\n",
    "        kernel = np.ones((5,5),np.uint8)\n",
    "        opening = cv2.morphologyEx(img, cv2.MORPH_OPEN, kernel)\n",
    "        erosion = cv2.erode(img,kernel,iterations = 1)\n",
    "#         dilation = cv2.dilate(img,kernel,iterations = 1)\n",
    "        return erosion\n",
    "\n",
    "    def resize(self,img,width,height):\n",
    "        dim=(width,height)\n",
    "        resized = cv2.resize(img, dim, interpolation = cv2.INTER_AREA)\n",
    "        return resized\n",
    "    def isImageGrayScale(self,img):\n",
    "        if(len(img.shape)<3):\n",
    "            return True\n",
    "        elif(len(img.shape)==3):\n",
    "            return False "
   ]
  },
  {
   "cell_type": "code",
   "execution_count": 4,
   "metadata": {},
   "outputs": [],
   "source": [
    "imconv=ImageConversions()"
   ]
  },
  {
   "cell_type": "code",
   "execution_count": 5,
   "metadata": {},
   "outputs": [],
   "source": [
    "path='../Equations/equ2.jpg'"
   ]
  },
  {
   "cell_type": "code",
   "execution_count": 6,
   "metadata": {},
   "outputs": [],
   "source": [
    "# grayImage=imconv.openImageUsingCVGrayScale(path)\n",
    "grayImage=imconv.openImageUsingCV(path)\n",
    "len(grayImage.shape)\n",
    "textWhiteImage=imconv.makeTextWhite(grayImage)\n",
    "thresh=imconv.dilate(textWhiteImage)\n",
    "# imconv.plotImageUsingCV(textWhiteImage)\n",
    "# ret,thresh = cv2.threshold(textWhiteImage,240,255,0)\n",
    "# imconv.plotImageUsingCV(thresh)"
   ]
  },
  {
   "cell_type": "code",
   "execution_count": 7,
   "metadata": {},
   "outputs": [],
   "source": [
    " contours, hierarchy = cv2.findContours(thresh,cv2.RETR_EXTERNAL,cv2.CHAIN_APPROX_SIMPLE)"
   ]
  },
  {
   "cell_type": "code",
   "execution_count": 8,
   "metadata": {},
   "outputs": [
    {
     "name": "stdout",
     "output_type": "stream",
     "text": [
      "11\n"
     ]
    }
   ],
   "source": [
    "print(len(contours))"
   ]
  },
  {
   "cell_type": "code",
   "execution_count": 9,
   "metadata": {},
   "outputs": [],
   "source": [
    "imconv.plotImageUsingCV(thresh)"
   ]
  },
  {
   "cell_type": "code",
   "execution_count": 10,
   "metadata": {},
   "outputs": [
    {
     "data": {
      "text/plain": [
       "array([[[177, 177, 177],\n",
       "        [177, 177, 177],\n",
       "        [176, 176, 176],\n",
       "        ...,\n",
       "        [185, 185, 185],\n",
       "        [184, 184, 184],\n",
       "        [184, 184, 184]],\n",
       "\n",
       "       [[177, 177, 177],\n",
       "        [177, 177, 177],\n",
       "        [176, 176, 176],\n",
       "        ...,\n",
       "        [186, 186, 186],\n",
       "        [184, 184, 184],\n",
       "        [184, 184, 184]],\n",
       "\n",
       "       [[176, 176, 176],\n",
       "        [176, 176, 176],\n",
       "        [176, 176, 176],\n",
       "        ...,\n",
       "        [185, 185, 185],\n",
       "        [184, 184, 184],\n",
       "        [184, 184, 184]],\n",
       "\n",
       "       ...,\n",
       "\n",
       "       [[163, 163, 163],\n",
       "        [163, 163, 163],\n",
       "        [164, 164, 164],\n",
       "        ...,\n",
       "        [176, 176, 176],\n",
       "        [179, 179, 179],\n",
       "        [179, 179, 179]],\n",
       "\n",
       "       [[163, 163, 163],\n",
       "        [163, 163, 163],\n",
       "        [164, 164, 164],\n",
       "        ...,\n",
       "        [176, 176, 176],\n",
       "        [179, 179, 179],\n",
       "        [179, 179, 179]],\n",
       "\n",
       "       [[164, 164, 164],\n",
       "        [164, 164, 164],\n",
       "        [165, 165, 165],\n",
       "        ...,\n",
       "        [177, 177, 177],\n",
       "        [179, 179, 179],\n",
       "        [179, 179, 179]]], dtype=uint8)"
      ]
     },
     "execution_count": 10,
     "metadata": {},
     "output_type": "execute_result"
    }
   ],
   "source": [
    "cv2.drawContours(grayImage, contours, -1, (0,255,240), 3)\n"
   ]
  },
  {
   "cell_type": "code",
   "execution_count": 11,
   "metadata": {},
   "outputs": [],
   "source": [
    "imconv.plotImageUsingCV(grayImage)"
   ]
  },
  {
   "cell_type": "code",
   "execution_count": 12,
   "metadata": {},
   "outputs": [
    {
     "name": "stdout",
     "output_type": "stream",
     "text": [
      "487 99 110 55\n",
      "1033 96 56 16\n",
      "45 88 97 63\n",
      "236 81 103 73\n",
      "402 78 72 72\n",
      "1021 75 60 15\n",
      "649 71 110 79\n",
      "879 63 68 71\n",
      "810 63 26 77\n",
      "1149 58 96 62\n",
      "151 51 52 56\n"
     ]
    }
   ],
   "source": [
    "res=[]\n",
    "for cnt in contours:\n",
    "        x,y,w,h = cv2.boundingRect(cnt)\n",
    "        cv2.rectangle(grayImage,(x,y),(x+w,y+h),(0,255,0),2)\n",
    "        print(x,y,w,h)\n",
    "        res.append([(x,y), (x+w, y+h)])"
   ]
  },
  {
   "cell_type": "code",
   "execution_count": 13,
   "metadata": {},
   "outputs": [],
   "source": [
    "imconv.plotImageUsingCV(grayImage)"
   ]
  },
  {
   "cell_type": "code",
   "execution_count": 14,
   "metadata": {},
   "outputs": [],
   "source": [
    "res.sort()"
   ]
  },
  {
   "cell_type": "code",
   "execution_count": 15,
   "metadata": {},
   "outputs": [
    {
     "name": "stdout",
     "output_type": "stream",
     "text": [
      "[(45, 88), (142, 151)]\n",
      "[(151, 51), (203, 107)]\n",
      "[(236, 81), (339, 154)]\n",
      "[(402, 78), (474, 150)]\n",
      "[(487, 99), (597, 154)]\n",
      "[(649, 71), (759, 150)]\n",
      "[(810, 63), (836, 140)]\n",
      "[(879, 63), (947, 134)]\n",
      "[(1021, 75), (1081, 90)]\n",
      "[(1033, 96), (1089, 112)]\n",
      "[(1149, 58), (1245, 120)]\n"
     ]
    }
   ],
   "source": [
    "for i in res:\n",
    "    print(i)"
   ]
  },
  {
   "cell_type": "code",
   "execution_count": 16,
   "metadata": {},
   "outputs": [
    {
     "name": "stdout",
     "output_type": "stream",
     "text": [
      "1 height- 63 weight- 97\n",
      "2 height- 56 weight- 52\n",
      "3 height- 73 weight- 103\n",
      "4 height- 72 weight- 72\n",
      "5 height- 55 weight- 110\n",
      "6 height- 79 weight- 110\n",
      "7 height- 77 weight- 26\n",
      "8 height- 71 weight- 68\n",
      "9 height- 15 weight- 60\n",
      "10 height- 16 weight- 56\n",
      "11 height- 62 weight- 96\n"
     ]
    }
   ],
   "source": [
    "res.sort()\n",
    "x=1\n",
    "for i in res:\n",
    "#     print(i)\n",
    "    height=i[1][1]-i[0][1]\n",
    "    width=i[1][0]-i[0][0]\n",
    "    print(x,'height-',height,'weight-',width)\n",
    "    cv2.rectangle(grayImage,(x,y),(x+w,y+h),(0,255,0),2)\n",
    "    x+=1"
   ]
  },
  {
   "cell_type": "code",
   "execution_count": 17,
   "metadata": {},
   "outputs": [],
   "source": [
    "imconv.plotImageUsingCV(grayImage[45,85])"
   ]
  },
  {
   "cell_type": "code",
   "execution_count": 36,
   "metadata": {},
   "outputs": [],
   "source": [
    "testImage=imconv.openImageUsingCV(path)\n",
    "croppedImage = testImage[75:112,1021:1089]\n",
    "# croppedImage2= testImage[51:107,151:203]"
   ]
  },
  {
   "cell_type": "code",
   "execution_count": 37,
   "metadata": {},
   "outputs": [],
   "source": [
    "imconv.plotImageUsingCV(croppedImage)"
   ]
  },
  {
   "cell_type": "code",
   "execution_count": 27,
   "metadata": {},
   "outputs": [
    {
     "data": {
      "text/plain": [
       "(63, 97, 3)"
      ]
     },
     "execution_count": 27,
     "metadata": {},
     "output_type": "execute_result"
    }
   ],
   "source": [
    "croppedImage.shape"
   ]
  },
  {
   "cell_type": "code",
   "execution_count": 29,
   "metadata": {},
   "outputs": [],
   "source": [
    "c=cv2.resize(croppedImage, (28, 28))\n",
    "imconv.plotImageUsingCV(c)"
   ]
  },
  {
   "cell_type": "code",
   "execution_count": 30,
   "metadata": {},
   "outputs": [
    {
     "data": {
      "text/plain": [
       "(28, 28, 3)"
      ]
     },
     "execution_count": 30,
     "metadata": {},
     "output_type": "execute_result"
    }
   ],
   "source": [
    "c.shape"
   ]
  },
  {
   "cell_type": "code",
   "execution_count": 31,
   "metadata": {},
   "outputs": [],
   "source": [
    "croppedImage = testImage[63:140,810:836]\n",
    "imconv.plotImageUsingCV(croppedImage)"
   ]
  },
  {
   "cell_type": "code",
   "execution_count": 32,
   "metadata": {},
   "outputs": [],
   "source": [
    "c=cv2.resize(croppedImage, (28, 28))"
   ]
  },
  {
   "cell_type": "code",
   "execution_count": 33,
   "metadata": {},
   "outputs": [],
   "source": [
    "imconv.plotImageUsingCV(c)"
   ]
  },
  {
   "cell_type": "code",
   "execution_count": null,
   "metadata": {},
   "outputs": [],
   "source": []
  }
 ],
 "metadata": {
  "kernelspec": {
   "display_name": "Python 3",
   "language": "python",
   "name": "python3"
  },
  "language_info": {
   "codemirror_mode": {
    "name": "ipython",
    "version": 3
   },
   "file_extension": ".py",
   "mimetype": "text/x-python",
   "name": "python",
   "nbconvert_exporter": "python",
   "pygments_lexer": "ipython3",
   "version": "3.6.4"
  }
 },
 "nbformat": 4,
 "nbformat_minor": 4
}

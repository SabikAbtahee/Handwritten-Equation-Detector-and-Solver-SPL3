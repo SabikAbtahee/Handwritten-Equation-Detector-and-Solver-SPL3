{
 "cells": [
  {
   "cell_type": "markdown",
   "metadata": {},
   "source": [
    "# Building sequential model file"
   ]
  },
  {
   "cell_type": "code",
   "execution_count": 6,
   "metadata": {},
   "outputs": [],
   "source": [
    "import tensorflow as tf\n",
    "from tensorflow.keras.datasets import cifar10\n",
    "from tensorflow.keras.preprocessing.image import ImageDataGenerator\n",
    "from tensorflow.keras.models import Sequential\n",
    "from tensorflow.keras.layers import Dense, Dropout, Activation, Flatten\n",
    "from tensorflow.keras.layers import Conv2D, MaxPooling2D"
   ]
  },
  {
   "cell_type": "code",
   "execution_count": 7,
   "metadata": {},
   "outputs": [],
   "source": [
    "import pickle\n",
    "\n",
    "pickle_in = open(\"../Dataset/v3/X3.pickle\",\"rb\")\n",
    "X = pickle.load(pickle_in)\n",
    "\n",
    "pickle_in = open(\"../Dataset/v3/y3.pickle\",\"rb\")\n",
    "y = pickle.load(pickle_in)\n",
    "\n",
    "X = X/255.0"
   ]
  },
  {
   "cell_type": "code",
   "execution_count": 8,
   "metadata": {},
   "outputs": [],
   "source": [
    "from tensorflow.keras.callbacks import TensorBoard\n",
    "import time\n",
    "import datetime\n",
    "import os"
   ]
  },
  {
   "cell_type": "code",
   "execution_count": 11,
   "metadata": {},
   "outputs": [
    {
     "name": "stdout",
     "output_type": "stream",
     "text": [
      ".\\logs\\fit\\math-symbol-CNN6\\\n"
     ]
    }
   ],
   "source": [
    "NAME = \"math-symbol-CNN\"\n",
    "log_dir='.\\logs\\\\fit\\math-symbol-CNN6\\\\'\n",
    " \n",
    "tensorboard = TensorBoard(log_dir)\n",
    "print(log_dir)"
   ]
  },
  {
   "cell_type": "code",
   "execution_count": 13,
   "metadata": {},
   "outputs": [
    {
     "name": "stdout",
     "output_type": "stream",
     "text": [
      "Train on 5850 samples, validate on 650 samples\n",
      "Epoch 1/15\n",
      "5850/5850 [==============================] - 1s 182us/sample - loss: 1.3707 - acc: 0.6238 - val_loss: 5.2768 - val_acc: 0.2062\n",
      "Epoch 2/15\n",
      "5850/5850 [==============================] - 1s 155us/sample - loss: 0.5096 - acc: 0.8692 - val_loss: 6.0080 - val_acc: 0.2138\n",
      "Epoch 3/15\n",
      "5850/5850 [==============================] - 1s 150us/sample - loss: 0.3458 - acc: 0.9103 - val_loss: 6.2590 - val_acc: 0.2169\n",
      "Epoch 4/15\n",
      "5850/5850 [==============================] - 1s 148us/sample - loss: 0.2643 - acc: 0.9301 - val_loss: 6.4290 - val_acc: 0.2185\n",
      "Epoch 5/15\n",
      "5850/5850 [==============================] - 1s 149us/sample - loss: 0.2167 - acc: 0.9444 - val_loss: 6.5448 - val_acc: 0.2154\n",
      "Epoch 6/15\n",
      "5850/5850 [==============================] - 1s 148us/sample - loss: 0.1852 - acc: 0.9518 - val_loss: 6.9087 - val_acc: 0.2200\n",
      "Epoch 7/15\n",
      "5850/5850 [==============================] - 1s 154us/sample - loss: 0.1585 - acc: 0.9598 - val_loss: 7.3006 - val_acc: 0.2185\n",
      "Epoch 8/15\n",
      "5850/5850 [==============================] - 1s 148us/sample - loss: 0.1323 - acc: 0.9687 - val_loss: 7.4916 - val_acc: 0.2185\n",
      "Epoch 9/15\n",
      "5850/5850 [==============================] - 1s 151us/sample - loss: 0.1198 - acc: 0.9679 - val_loss: 7.5389 - val_acc: 0.2185\n",
      "Epoch 10/15\n",
      "5850/5850 [==============================] - 1s 150us/sample - loss: 0.1128 - acc: 0.9704 - val_loss: 7.5729 - val_acc: 0.2185\n",
      "Epoch 11/15\n",
      "5850/5850 [==============================] - 1s 152us/sample - loss: 0.0932 - acc: 0.9776 - val_loss: 7.4400 - val_acc: 0.2108\n",
      "Epoch 12/15\n",
      "5850/5850 [==============================] - 1s 149us/sample - loss: 0.0940 - acc: 0.9757 - val_loss: 8.0319 - val_acc: 0.2215\n",
      "Epoch 13/15\n",
      "5850/5850 [==============================] - 1s 149us/sample - loss: 0.0730 - acc: 0.9819 - val_loss: 7.9934 - val_acc: 0.2185\n",
      "Epoch 14/15\n",
      "5850/5850 [==============================] - 1s 150us/sample - loss: 0.0678 - acc: 0.9838 - val_loss: 8.0743 - val_acc: 0.2200\n",
      "Epoch 15/15\n",
      "5850/5850 [==============================] - 1s 150us/sample - loss: 0.0634 - acc: 0.9855 - val_loss: 8.0240 - val_acc: 0.2185\n"
     ]
    }
   ],
   "source": [
    "num_classes=26\n",
    "def model1():\n",
    "    model = Sequential()\n",
    "\n",
    "    model.add(Conv2D(256, (3, 3), input_shape=X.shape[1:]))\n",
    "    model.add(Activation('relu'))\n",
    "    model.add(MaxPooling2D(pool_size=(2, 2)))\n",
    "\n",
    "    model.add(Conv2D(256, (3, 3)))\n",
    "    model.add(Activation('relu'))\n",
    "    model.add(MaxPooling2D(pool_size=(2, 2)))\n",
    "\n",
    "    model.add(Flatten())  # this converts our 3D feature maps to 1D feature vectors\n",
    "\n",
    "    model.add(Dense(64))\n",
    "\n",
    "    model.add(Dense(num_classes))\n",
    "    model.add(Activation('sigmoid'))\n",
    "\n",
    "    model.compile(loss='sparse_categorical_crossentropy',\n",
    "                  optimizer='adam',\n",
    "                  metrics=['accuracy'])\n",
    "\n",
    "    model.fit(X, y, batch_size=32, epochs=10, validation_split=0.1,callbacks=[tensorboard])\n",
    "    \n",
    "def model2():\n",
    "    model = Sequential()\n",
    "    model.add(Conv2D(32,(3,3), activation='relu',input_shape=X.shape[1:]))\n",
    "    model.add(MaxPooling2D(pool_size=(2,2)))\n",
    "    \n",
    "    model.add(Conv2D(32,(3,3),activation='relu'))\n",
    "    model.add(MaxPooling2D(pool_size=(2,2)))\n",
    "    \n",
    "    model.add(Flatten())\n",
    "    \n",
    "    model.add(Dense(64,activation='tanh'))\n",
    "    model.add(Dropout(0.2))\n",
    "    \n",
    "    model.add(Dense(num_classes,activation='softmax'))\n",
    "    model.compile(loss='sparse_categorical_crossentropy',optimizer='adam',metrics=['accuracy'])\n",
    "    model.fit(X, y, batch_size=32, epochs=15, validation_split=0.1,callbacks=[tensorboard])\n",
    "    \n",
    "model2()"
   ]
  },
  {
   "cell_type": "markdown",
   "metadata": {},
   "source": [
    "# tensorboard --logdir=ENTERLOGFOLDERPATH --host localhost --port 8088"
   ]
  },
  {
   "cell_type": "code",
   "execution_count": 7,
   "metadata": {},
   "outputs": [
    {
     "name": "stdout",
     "output_type": "stream",
     "text": [
      "<bound method Network.summary of <tensorflow.python.keras.engine.sequential.Sequential object at 0x000001F3C0A672E8>>\n"
     ]
    }
   ],
   "source": [
    "print(model.summary)"
   ]
  },
  {
   "cell_type": "markdown",
   "metadata": {},
   "source": []
  }
 ],
 "metadata": {
  "kernelspec": {
   "display_name": "Python 3",
   "language": "python",
   "name": "python3"
  },
  "language_info": {
   "codemirror_mode": {
    "name": "ipython",
    "version": 3
   },
   "file_extension": ".py",
   "mimetype": "text/x-python",
   "name": "python",
   "nbconvert_exporter": "python",
   "pygments_lexer": "ipython3",
   "version": "3.6.4"
  }
 },
 "nbformat": 4,
 "nbformat_minor": 4
}
